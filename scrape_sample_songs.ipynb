{
 "cells": [
  {
   "cell_type": "code",
   "execution_count": 14,
   "metadata": {},
   "outputs": [],
   "source": [
    "import urllib.request\n",
    "from bs4 import BeautifulSoup\n",
    "import re\n",
    "import time\n",
    "import json\n",
    "\n",
    "\n",
    "re_year = re.compile(r'\\d{4}')"
   ]
  },
  {
   "cell_type": "code",
   "execution_count": 2,
   "metadata": {},
   "outputs": [],
   "source": [
    "url = \"https://www.whosampled.com/The-Winstons/Amen,-Brother/sampled/\"\n",
    "resp = urllib.request.urlopen(url)\n",
    "page = resp.read()"
   ]
  },
  {
   "cell_type": "code",
   "execution_count": 3,
   "metadata": {},
   "outputs": [],
   "source": [
    "soup = BeautifulSoup(page, 'html.parser')\n",
    "list_of_songs = soup.findAll('div', {'class':'trackDetails'})\n"
   ]
  },
  {
   "cell_type": "code",
   "execution_count": 4,
   "metadata": {},
   "outputs": [],
   "source": [
    "song_info = []"
   ]
  },
  {
   "cell_type": "code",
   "execution_count": 5,
   "metadata": {},
   "outputs": [],
   "source": [
    "def extract_song_info(song):\n",
    "    # artist has 'by artist_name (year)' so split to get the relevant info\n",
    "    artist_year = song.find('span', {'class':'trackArtist'}).text\n",
    "    if 'feat.' in artist_year:\n",
    "        primary_artist = artist_year.split('feat.')[0].strip()[3:]\n",
    "    else:\n",
    "        primary_artist = ' '.join(artist_year.split()[1:-1])\n",
    "    year = re.findall(re_year, artist_year.split()[-1])[0]\n",
    "    \n",
    "    title = song.find('a').text.strip()\n",
    "    instrument = song.find('span', {'class':'topItem'}).text.strip()\n",
    "    genre = song.find('span', {'class':'bottomItem'}).text.strip()\n",
    "    \n",
    "    return primary_artist, title, year, instrument, genre"
   ]
  },
  {
   "cell_type": "code",
   "execution_count": 6,
   "metadata": {},
   "outputs": [],
   "source": [
    "scraping = True\n",
    "num_pages = 1\n",
    "while scraping:\n",
    "    # get list of songs on current page\n",
    "    list_of_songs = soup.findAll('div', {'class':'trackDetails'})\n",
    "    \n",
    "    for song in list_of_songs:\n",
    "        song_info.append(extract_song_info(song))\n",
    "    \n",
    "    # see if we can go to another page or stop\n",
    "    next_page = soup.find('span', {'class':'next'})\n",
    "    if next_page:\n",
    "        if num_pages % 25 == 0:\n",
    "            print(f'finished page: {num_pages}. Sleep for 10 seconds')\n",
    "            time.delay(10)\n",
    "        num_pages += 1\n",
    "            \n",
    "        next_url = \"https://www.whosampled.com/\" + next_page.a['href']\n",
    "        soup = BeautifulSoup(urllib.request.urlopen(next_url).read(), 'html.parser')\n",
    "    else:\n",
    "        scraping = False"
   ]
  },
  {
   "cell_type": "code",
   "execution_count": 7,
   "metadata": {},
   "outputs": [
    {
     "name": "stdout",
     "output_type": "stream",
     "text": [
      "Total number of pages scraped: 1\n",
      "Total number of songs: 2864\n"
     ]
    }
   ],
   "source": [
    "print(f\"Total number of pages scraped: {num_pages}\")\n",
    "print(f'Total number of songs: {len(song_info)}')"
   ]
  },
  {
   "cell_type": "code",
   "execution_count": 15,
   "metadata": {},
   "outputs": [],
   "source": [
    "with open(\"song_info.txt\", 'w') as f:\n",
    "    f.write(json.dumps(song_info))"
   ]
  },
  {
   "cell_type": "code",
   "execution_count": 16,
   "metadata": {},
   "outputs": [
    {
     "name": "stdout",
     "output_type": "stream",
     "text": [
      "scrape_sample_songs.ipynb song_info.txt\r\n"
     ]
    }
   ],
   "source": []
  },
  {
   "cell_type": "code",
   "execution_count": null,
   "metadata": {},
   "outputs": [],
   "source": []
  }
 ],
 "metadata": {
  "kernelspec": {
   "display_name": "Python 3",
   "language": "python",
   "name": "python3"
  },
  "language_info": {
   "codemirror_mode": {
    "name": "ipython",
    "version": 3
   },
   "file_extension": ".py",
   "mimetype": "text/x-python",
   "name": "python",
   "nbconvert_exporter": "python",
   "pygments_lexer": "ipython3",
   "version": "3.6.1"
  }
 },
 "nbformat": 4,
 "nbformat_minor": 2
}
