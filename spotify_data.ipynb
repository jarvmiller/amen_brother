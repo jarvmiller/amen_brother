{
 "cells": [
  {
   "cell_type": "code",
   "execution_count": 1,
   "metadata": {},
   "outputs": [],
   "source": [
    "import re\n",
    "import requests_oauthlib\n",
    "import requests\n",
    "import webbrowser\n",
    "import json\n",
    "from fuzzywuzzy import fuzz\n",
    "from fuzzywuzzy import process\n",
    "from spotify_secret_data import *\n",
    "import time\n",
    "CLIENT_ID = client_id\n",
    "CLIENT_SECRET = client_secret\n",
    "\n",
    "\n",
    "from datetime import datetime\n",
    "DATETIME_FORMAT = \"%Y-%m-%d %H:%M:%S.%f\"\n",
    "\n",
    "AUTHORIZATION_URL = 'https://accounts.spotify.com/authorize'\n",
    "# NOTE: you need to specify this same REDIRECT_URI in the Spotify API console of your application!\n",
    "REDIRECT_URI = 'https://www.programsinformationpeople.org/runestone/oauth' # This is a URL we have specifically set up at UMSI to handle student requests, basically -- it is an \"OAuth2 workaround\". You could use any URL -- but it would be a bit rude to, because that's still a hit on someone's URL! In general, you'd use your own -- on your own server.\n",
    "TOKEN_URL = 'https://accounts.spotify.com/api/token'\n"
   ]
  },
  {
   "cell_type": "code",
   "execution_count": 2,
   "metadata": {},
   "outputs": [],
   "source": [
    "\n",
    "def has_token_expired(timestamp_str):\n",
    "    \"\"\"\n",
    "    checks to see if the token is over one hour old\n",
    "\n",
    "    Parameters\n",
    "    -------\n",
    "    timestamp_str : string\n",
    "        timestamp of when the token was originally saved\n",
    "\n",
    "    Returns\n",
    "    -------\n",
    "    True or False : bool\n",
    "        True if timestamp has expired else False\n",
    "    \"\"\"\n",
    "\n",
    "    # gives current datetime\n",
    "    now = datetime.now()\n",
    "\n",
    "    # datetime.strptime converts a formatted string into datetime object\n",
    "    cache_timestamp = datetime.strptime(timestamp_str, DATETIME_FORMAT)\n",
    "\n",
    "    # subtracting two datetime objects gives you a timedelta object\n",
    "    delta = now - cache_timestamp\n",
    "    \n",
    "    # if the change in time between now and when the token was saved\n",
    "    # is over an hour, return True, else return false\n",
    "    if delta.seconds > 3600:\n",
    "        return True \n",
    "    else:\n",
    "        return False  \n",
    "\n",
    "\n",
    "def get_saved_token():\n",
    "    with open('token.json', 'r') as f:\n",
    "        token_json = f.read()\n",
    "        token_dict = json.loads(token_json)\n",
    "\n",
    "        return token_dict\n",
    "\n",
    "\n",
    "def save_token(token_dict):\n",
    "    # adds timestamp of when token was saved\n",
    "    token_dict['timestamp'] = datetime.now().strftime(DATETIME_FORMAT)\n",
    "    \n",
    "    with open('token.json', 'w') as f:\n",
    "        token_json = json.dumps(token_dict)\n",
    "        f.write(token_json)\n",
    "\n"
   ]
  },
  {
   "cell_type": "code",
   "execution_count": 3,
   "metadata": {},
   "outputs": [],
   "source": [
    "def start_session():\n",
    "    \"\"\"\n",
    "    Starts an oauth2 session\n",
    "\n",
    "\n",
    "    Returns\n",
    "    -------\n",
    "    oauth2inst : object\n",
    "        object of class requests_oauthlib\n",
    "    \"\"\"\n",
    "\n",
    "    # if the token has never been saved, assign it to None\n",
    "    try:\n",
    "        token = get_saved_token()\n",
    "    except FileNotFoundError:\n",
    "        token = None\n",
    "\n",
    "    # if token was cached and hasn't expired\n",
    "    if token:\n",
    "        if not has_token_expired(token['timestamp']):\n",
    "            oauth2inst = requests_oauthlib.OAuth2Session(CLIENT_ID, token=token)\n",
    "            return oauth2inst\n",
    "\n",
    "    # If token either doesn't exist or has expired\n",
    "    print('getting token the long way')\n",
    "    oauth2inst = requests_oauthlib.OAuth2Session(CLIENT_ID, redirect_uri=REDIRECT_URI)\n",
    "    authorization_url, state = oauth2inst.authorization_url(AUTHORIZATION_URL) # all we need for spotify\n",
    "\n",
    "    webbrowser.open(authorization_url) # Opening auth URL for you to sign in to the Spotify service\n",
    "    authorization_response = input('Authenticate and then enter the full callback URL: ').strip() # Need to get the full URL in order to parse the response\n",
    "\n",
    "    # The OAuth2Session instance has a method that extracts what we need from the url, and helps do some other back and forth with spotify\n",
    "    token = oauth2inst.fetch_token(TOKEN_URL, authorization_response=authorization_response, client_secret=CLIENT_SECRET)\n",
    "    save_token(token)\n",
    "    \n",
    "    return oauth2inst"
   ]
  },
  {
   "cell_type": "code",
   "execution_count": 4,
   "metadata": {},
   "outputs": [],
   "source": [
    "def get_track_info(track_dict):\n",
    "    \"\"\"\n",
    "    Uses data from track_dict to search additional features about each track.\n",
    "    Adds that data to track_dict for each track  \n",
    "\n",
    "    Parameters\n",
    "    -------\n",
    "    track_dict : dict\n",
    "        dictionary that holds data about each track. Current info\n",
    "        is track name, ID, number, and duration\n",
    "\n",
    "    Returns\n",
    "    -------\n",
    "    track_dict : dictionary \n",
    "        Each key is the track_id, the corresponding values are \n",
    "        track name, ID, number, and duration, danceability, energy,\n",
    "        tempo, speechiness, and valence\n",
    "    \"\"\"\n",
    "\n",
    "    # sort by track number so I can get features for the right song\n",
    "    # as the oauth2 response is in track_number order\n",
    "    track_keys_by_number = sorted(track_dict.items(), key = lambda x: x[1][0])\n",
    "    track_keys_by_number = [x[0] for x in track_keys_by_number]\n",
    "    # doing the request\n",
    "    track_feat_url = 'https://api.spotify.com/v1/audio-features?ids={}'.format(','.join(list(track_dict.keys())))\n",
    "    oauth2inst = start_session()\n",
    "    track_features = oauth2inst.get(track_feat_url)\n",
    "    # list of data for each track. Length is number of tracks\n",
    "    features = json.loads(track_features.text)\n",
    "    # print(features)\n",
    "    features = features['audio_features']\n",
    "    # print(features)\n",
    "    # For each track\n",
    "    for ind, key in enumerate(track_keys_by_number):\n",
    "        # get the features for that track and extend the list\n",
    "        # corresponding to track_dict[track_id]\n",
    "        feats = features[ind]\n",
    "        if feats is None:\n",
    "            # need to take get rid of this whole album\n",
    "            return None\n",
    "        else:\n",
    "            track_dict[key].extend([feats.get('danceability'),\n",
    "                                    feats.get('energy'),\n",
    "                                    feats.get('tempo'),\n",
    "                                    feats.get('speechiness'),\n",
    "                                    feats.get('valence')])\n",
    "    return track_dict\n"
   ]
  },
  {
   "cell_type": "code",
   "execution_count": 12,
   "metadata": {},
   "outputs": [],
   "source": [
    "def clean(artist_name):\n",
    "    # removes capital letters, non word characters\n",
    "    return re.sub(r'\\W', '', artist_name).lower()\n",
    "    "
   ]
  },
  {
   "cell_type": "code",
   "execution_count": 13,
   "metadata": {},
   "outputs": [],
   "source": [
    "with open('scraped_songs.txt') as f:\n",
    "    song_info = json.loads(f.read())"
   ]
  },
  {
   "cell_type": "code",
   "execution_count": 14,
   "metadata": {},
   "outputs": [],
   "source": [
    "base = \"https://api.spotify.com/v1/search\"\n"
   ]
  },
  {
   "cell_type": "code",
   "execution_count": 15,
   "metadata": {},
   "outputs": [],
   "source": [
    "oauth2inst = start_session()\n"
   ]
  },
  {
   "cell_type": "code",
   "execution_count": 16,
   "metadata": {},
   "outputs": [
    {
     "name": "stdout",
     "output_type": "stream",
     "text": [
      "num completed: 0\n",
      "num matches: 1\n",
      "num completed: 200\n",
      "num matches: 111\n",
      "num completed: 400\n",
      "num matches: 203\n",
      "num completed: 600\n",
      "num matches: 291\n",
      "num completed: 800\n",
      "num matches: 370\n",
      "num completed: 1000\n",
      "num matches: 435\n",
      "num completed: 1200\n",
      "num matches: 502\n",
      "num completed: 1400\n",
      "num matches: 557\n",
      "num completed: 1600\n",
      "num matches: 629\n",
      "num completed: 1800\n",
      "num matches: 695\n",
      "num completed: 2000\n",
      "num matches: 777\n",
      "num completed: 2200\n",
      "num matches: 849\n",
      "num completed: 2400\n",
      "num matches: 914\n",
      "num completed: 2600\n",
      "num matches: 999\n",
      "num completed: 2800\n",
      "num matches: 1064\n"
     ]
    }
   ],
   "source": [
    "num_matches = 0\n",
    "for i, song in enumerate(song_info):\n",
    "    q = {'q': f'track:{song[1]} artist:{song[0]}', 'type':'track'}\n",
    "    track_url = requests.get(base, params=q).url\n",
    "    track = oauth2inst.get(track_url)\n",
    "    track_options = json.loads(track.text)['tracks']['items']\n",
    "\n",
    "    for track_option in track_options:\n",
    "        # very arbitrary matching\n",
    "        if fuzz.token_sort_ratio(clean(track_option['artists'][0]['name']), clean(song[0])) > 60:\n",
    "#             print(track_option['artists'][0]['name'],',', song[0])\n",
    "            song_id = track_option['id']\n",
    "            song_info[i].append(song_id)\n",
    "\n",
    "            num_matches += 1\n",
    "            break\n",
    "\n",
    "    if len(song_info[i]) == 5:\n",
    "        song_info[i].append(None)\n",
    "#             print(track_option['artists'][0]['name'],',', song[0], 'NO MATCH')\n",
    "    if i % 200 == 0:\n",
    "        print(f'num completed: {i}')\n",
    "        print(f'num matches: {num_matches}')\n",
    "        time.sleep(5)"
   ]
  },
  {
   "cell_type": "code",
   "execution_count": 17,
   "metadata": {},
   "outputs": [
    {
     "data": {
      "text/plain": [
       "0.3774441340782123"
      ]
     },
     "execution_count": 17,
     "metadata": {},
     "output_type": "execute_result"
    }
   ],
   "source": [
    "num_matches / len(song_info)"
   ]
  },
  {
   "cell_type": "markdown",
   "metadata": {},
   "source": [
    "### Now to search through the IDs to get the track info"
   ]
  },
  {
   "cell_type": "code",
   "execution_count": 18,
   "metadata": {},
   "outputs": [],
   "source": [
    "audio_base = \"https://api.spotify.com/v1/audio-features/\""
   ]
  },
  {
   "cell_type": "code",
   "execution_count": 37,
   "metadata": {},
   "outputs": [
    {
     "name": "stdout",
     "output_type": "stream",
     "text": [
      "getting token the long way\n",
      "Authenticate and then enter the full callback URL: https://www.programsinformationpeople.org/runestone/oauth/index?code=AQCkWdG_7obHdWLvYQmiDVkL9tuGSgd3_IM-CCAGzIThqYkNfq4ruadDcvk88n5eYgNfhTtE4qVpDp2CEroM10xOGuIJ4k24yOqBejc6n1AgnmRYFnBPDHQ6XIBGTUlLHSnnPdihc1rGdMoqLVJMZY8n2Az_3cV9Eiz9Wi90NNX2p5rUhooBwTFtXv9jA5en0c1XJwsPD5zoXorwRzpdUIRofO7VtE6wz8QGz3itbQ&state=qKni2dDMGifbH6V60tVHV2iPCIOalv\n"
     ]
    }
   ],
   "source": [
    "oauth2inst = start_session()\n"
   ]
  },
  {
   "cell_type": "code",
   "execution_count": 50,
   "metadata": {},
   "outputs": [],
   "source": [
    "for i, song in enumerate(song_info):\n",
    "    song_id = song[5]\n",
    "    if song_id is not None:\n",
    "        track_features = oauth2inst.get(audio_base + song_id)\n",
    "        # list of data for each track. Length is number of tracks\n",
    "        feat = json.loads(track_features.text)\n",
    "        \n",
    "        if len(song_info[i]) == 6: \n",
    "            song_info[i].extend([feat.get('danceability'), feat.get('energy'), feat.get('valence'),\n",
    "                                 feat.get('tempo'), feat.get('duration_ms')])\n",
    "    else:\n",
    "        song_info[i].extend([None, None, None, None, None])"
   ]
  },
  {
   "cell_type": "code",
   "execution_count": 51,
   "metadata": {},
   "outputs": [],
   "source": [
    "import pandas as pd"
   ]
  },
  {
   "cell_type": "code",
   "execution_count": 54,
   "metadata": {},
   "outputs": [],
   "source": [
    "cols = ['Artist', \"Title\", \"Year\", \"Instrument\", \"Genre\", \"ID\", \"Danceability\", \"Energy\", \"Valence\", \"Tempo\", \"Duration_MS\"]\n",
    "df = pd.DataFrame(song_info, columns=cols)"
   ]
  },
  {
   "cell_type": "code",
   "execution_count": 56,
   "metadata": {},
   "outputs": [],
   "source": [
    "df.to_csv('songs.csv', index=False)"
   ]
  },
  {
   "cell_type": "code",
   "execution_count": null,
   "metadata": {},
   "outputs": [],
   "source": []
  }
 ],
 "metadata": {
  "kernelspec": {
   "display_name": "Python 3",
   "language": "python",
   "name": "python3"
  },
  "language_info": {
   "codemirror_mode": {
    "name": "ipython",
    "version": 3
   },
   "file_extension": ".py",
   "mimetype": "text/x-python",
   "name": "python",
   "nbconvert_exporter": "python",
   "pygments_lexer": "ipython3",
   "version": "3.6.1"
  }
 },
 "nbformat": 4,
 "nbformat_minor": 2
}
